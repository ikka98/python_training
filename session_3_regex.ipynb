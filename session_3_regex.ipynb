{
 "cells": [
  {
   "cell_type": "code",
   "execution_count": 1,
   "metadata": {},
   "outputs": [
    {
     "name": "stdout",
     "output_type": "stream",
     "text": [
      "Pattern found: fox\n"
     ]
    }
   ],
   "source": [
    "import re\n",
    "\n",
    "# Example of re.search()\n",
    "text = \"The quick brown fox jumps over the lazy dog\"\n",
    "pattern = r\"fox\"\n",
    "\n",
    "# Searching for the pattern in the text\n",
    "match = re.search(pattern, text)\n",
    "\n",
    "if match:\n",
    "    print(\"Pattern found:\", match.group())  # Output: Pattern found: fox\n",
    "else:\n",
    "    print(\"Pattern not found\")"
   ]
  },
  {
   "cell_type": "code",
   "execution_count": 2,
   "metadata": {},
   "outputs": [
    {
     "name": "stdout",
     "output_type": "stream",
     "text": [
      "Pattern found: The\n"
     ]
    }
   ],
   "source": [
    "# Example of re.match()\n",
    "text = \"The quick brown fox jumps over the lazy dog\"\n",
    "pattern = r\"The\"\n",
    "\n",
    "# Matching the pattern at the beginning of the text\n",
    "match = re.match(pattern, text)\n",
    "\n",
    "if match:\n",
    "    print(\"Pattern found:\", match.group())  # Output: Pattern found: The\n",
    "else:\n",
    "    print(\"Pattern not found\")"
   ]
  },
  {
   "cell_type": "code",
   "execution_count": 3,
   "metadata": {},
   "outputs": [
    {
     "name": "stdout",
     "output_type": "stream",
     "text": [
      "['The', 'fox', 'the', 'dog']\n"
     ]
    }
   ],
   "source": [
    "# Example of re.findall()\n",
    "text = \"The quick brown fox jumps over the lazy dog\"\n",
    "pattern = r\"\\b\\w{3}\\b\"  # Matches words with 3 characters\n",
    "\n",
    "# Finding all occurrences of the pattern in the text\n",
    "matches = re.findall(pattern, text)\n",
    "print(matches)  # Output: ['The', 'fox', 'the', 'dog']\n"
   ]
  },
  {
   "cell_type": "code",
   "execution_count": 4,
   "metadata": {},
   "outputs": [
    {
     "name": "stdout",
     "output_type": "stream",
     "text": [
      "Pattern found: The\n",
      "Pattern found: fox\n",
      "Pattern found: the\n",
      "Pattern found: dog\n"
     ]
    }
   ],
   "source": [
    "# Example of re.finditer()\n",
    "text = \"The quick brown fox jumps over the lazy dog\"\n",
    "pattern = r\"\\b\\w{3}\\b\"  # Matches words with 3 characters\n",
    "\n",
    "# Finding all occurrences of the pattern in the text using finditer\n",
    "matches = re.finditer(pattern, text)\n",
    "\n",
    "for match in matches:\n",
    "    print(\"Pattern found:\", match.group())  # Output: Pattern found: The, fox, the, dog\n"
   ]
  },
  {
   "cell_type": "code",
   "execution_count": 5,
   "metadata": {},
   "outputs": [
    {
     "name": "stdout",
     "output_type": "stream",
     "text": [
      "The quick brown wolf jumps over the lazy dog\n"
     ]
    }
   ],
   "source": [
    "# Example of re.sub()\n",
    "text = \"The quick brown fox jumps over the lazy dog\"\n",
    "pattern = r\"\\bfox\\b\"\n",
    "\n",
    "# Replacing 'fox' with 'wolf' in the text\n",
    "new_text = re.sub(pattern, \"wolf\", text)\n",
    "print(new_text)  # Output: The quick brown wolf jumps over the lazy dog\n"
   ]
  },
  {
   "cell_type": "code",
   "execution_count": 6,
   "metadata": {},
   "outputs": [
    {
     "name": "stdout",
     "output_type": "stream",
     "text": [
      "['The', 'quick', 'brown', 'fox', 'jumps', 'over', 'the', 'lazy', 'dog']\n"
     ]
    }
   ],
   "source": [
    "# Example of re.split()\n",
    "text = \"The quick brown fox jumps over the lazy dog\"\n",
    "pattern = r\"\\s\"  # Splitting on whitespace\n",
    "\n",
    "# Splitting the text into a list of words\n",
    "words = re.split(pattern, text)\n",
    "print(words)  # Output: ['The', 'quick', 'brown', 'fox', 'jumps', 'over', 'the', 'lazy', 'dog']\n"
   ]
  },
  {
   "cell_type": "code",
   "execution_count": 7,
   "metadata": {},
   "outputs": [
    {
     "data": {
      "text/plain": [
       "['123orange', 'grape123']"
      ]
     },
     "execution_count": 7,
     "metadata": {},
     "output_type": "execute_result"
    }
   ],
   "source": [
    "\n",
    "\n",
    "# List of sample strings\n",
    "strings = [\"apple\", \"banana\", \"123orange\", \"grape123\", \"pear\"]\n",
    "\n",
    "# Using filter with a lambda function to match strings containing digits\n",
    "pattern = re.compile(r\"\\d+\")  # Matches strings containing one or more digits\n",
    "result = filter(lambda x: pattern.search(x), strings)\n",
    "\n",
    "# Converting the filtered result to a list\n",
    "filtered_list = list(result)\n",
    "filtered_list \n"
   ]
  },
  {
   "cell_type": "code",
   "execution_count": 8,
   "metadata": {},
   "outputs": [
    {
     "data": {
      "text/plain": [
       "'Today is 2023-11-30 and tomorrow is 2023-12-01'"
      ]
     },
     "execution_count": 8,
     "metadata": {},
     "output_type": "execute_result"
    }
   ],
   "source": [
    "\n",
    "# Sample text with dates in MM/DD/YYYY format\n",
    "text = \"Today is 11/30/2023 and tomorrow is 12/01/2023\"\n",
    "\n",
    "# Using re.sub() with a lambda function to change the date format to YYYY-MM-DD\n",
    "pattern = re.compile(r\"(\\d{2})/(\\d{2})/(\\d{4})\")  # Matches MM/DD/YYYY format\n",
    "result = re.sub(pattern, lambda x: f\"{x.group(3)}-{x.group(1)}-{x.group(2)}\", text)\n",
    "\n",
    "result\n"
   ]
  }
 ],
 "metadata": {
  "kernelspec": {
   "display_name": "Python 3",
   "language": "python",
   "name": "python3"
  },
  "language_info": {
   "codemirror_mode": {
    "name": "ipython",
    "version": 3
   },
   "file_extension": ".py",
   "mimetype": "text/x-python",
   "name": "python",
   "nbconvert_exporter": "python",
   "pygments_lexer": "ipython3",
   "version": "3.11.6"
  }
 },
 "nbformat": 4,
 "nbformat_minor": 2
}
