{
 "cells": [
  {
   "cell_type": "code",
   "execution_count": 2,
   "metadata": {},
   "outputs": [
    {
     "name": "stdout",
     "output_type": "stream",
     "text": [
      "2015 Toyota Corolla\n",
      "Total vehicles created: 2\n",
      "This is a car: 2020 BMW X5\n",
      "Battery is more than 50% charged.\n",
      "This is an electric car: 2022 Tesla Model S\n"
     ]
    }
   ],
   "source": [
    "class Vehicle:\n",
    "    # Class variable\n",
    "    total_vehicles = 0\n",
    "\n",
    "    def __init__(self, make, model, year):\n",
    "        self.make = make\n",
    "        self.model = model\n",
    "        self.year = year\n",
    "        Vehicle.total_vehicles += 1\n",
    "\n",
    "    # Instance method\n",
    "    def display_info(self):\n",
    "        return f\"{self.year} {self.make} {self.model}\"\n",
    "\n",
    "    # Class method\n",
    "    @classmethod\n",
    "    def display_total_vehicles(cls):\n",
    "        return f\"Total vehicles created: {cls.total_vehicles}\"\n",
    "\n",
    "    # Static method\n",
    "    @staticmethod\n",
    "    def is_historical(year):\n",
    "        return year < 2000\n",
    "\n",
    "# Inheritance\n",
    "class Car(Vehicle):\n",
    "\n",
    "    # Override dunder method\n",
    "    def __str__(self):\n",
    "        return f\"This is a car: {self.display_info()}\"\n",
    "\n",
    "# Property decorator\n",
    "class ElectricCar(Vehicle):\n",
    "    def __init__(self, make, model, year, battery_life):\n",
    "        super().__init__(make, model, year)\n",
    "        self.battery_life = battery_life\n",
    "\n",
    "    @property\n",
    "    def battery_status(self):\n",
    "        if self.battery_life > 50:\n",
    "            return \"Battery is more than 50% charged.\"\n",
    "        elif 20 <= self.battery_life <= 50:\n",
    "            return \"Battery is between 20% and 50% charged.\"\n",
    "        else:\n",
    "            return \"Battery is less than 20% charged or requires charging.\"\n",
    "\n",
    "    def __str__(self):\n",
    "        return f\"This is an electric car: {self.display_info()}\"\n",
    "\n",
    "# Creating instances and demonstrating functionality\n",
    "vehicle1 = Vehicle(\"Toyota\", \"Corolla\", 2015)\n",
    "vehicle2 = Vehicle(\"Ford\", \"Focus\", 2010)\n",
    "print(vehicle1.display_info())  \n",
    "print(Vehicle.display_total_vehicles())  \n",
    "\n",
    "car = Car(\"BMW\", \"X5\", 2020)\n",
    "print(car) \n",
    "\n",
    "electric_car = ElectricCar(\"Tesla\", \"Model S\", 2022, 75)\n",
    "print(electric_car.battery_status)  \n",
    "print(electric_car)  \n"
   ]
  }
 ],
 "metadata": {
  "kernelspec": {
   "display_name": "Python 3",
   "language": "python",
   "name": "python3"
  },
  "language_info": {
   "codemirror_mode": {
    "name": "ipython",
    "version": 3
   },
   "file_extension": ".py",
   "mimetype": "text/x-python",
   "name": "python",
   "nbconvert_exporter": "python",
   "pygments_lexer": "ipython3",
   "version": "3.11.6"
  }
 },
 "nbformat": 4,
 "nbformat_minor": 2
}
